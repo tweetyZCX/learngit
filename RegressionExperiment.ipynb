{
 "cells": [
  {
   "cell_type": "code",
   "execution_count": 8,
   "metadata": {},
   "outputs": [
    {
     "data": {
      "image/png": "[encoded data removed]",
      "text/plain": [
       "<matplotlib.figure.Figure at 0x564b0c2e80>"
      ]
     },
     "metadata": {},
     "output_type": "display_data"
    }
   ],
   "source": [
    "import numpy as np\n",
    "import matplotlib.pyplot as plt\n",
    "from sklearn.datasets import load_svmlight_file\n",
    "from sklearn.cross_validation import train_test_split \n",
    "x,y = load_svmlight_file(\"E:/housing_scale.txt\")\n",
    "x=x.toarray()\n",
    "m, n = np.shape(x)\n",
    "a=np.ones((m))\n",
    "X=np.column_stack((x,a))\n",
    "X_train, X_test, y_train, y_test = train_test_split(X,y,test_size=0.2,random_state=0)\n",
    "m_train,n_train= np.shape(X_train)\n",
    "m_test,n_test= np.shape(X_test)\n",
    "w = np.zeros(n+1)\n",
    "W=w.transpose()\n",
    "alpha = 0.01\n",
    "maxIteration = 100\n",
    "Iteration=range(0,maxIteration)\n",
    "Ltrain=[]\n",
    "Lvalidation=[]\n",
    "for i in range(0, maxIteration):\n",
    "    hypothesis = np.dot(W.transpose(),X_train.transpose())\n",
    "    loss_train = hypothesis - y_train\n",
    "    Ltrain.append(np.dot(loss_train.transpose(),loss_train)/(2*m_train))  \n",
    "    y_predict=np.dot(W.transpose(),X_test.transpose())\n",
    "    loss_test= y_predict-y_test\n",
    "    Lvalidation.append(np.dot(loss_test.transpose(),loss_test)/(2*m_test))  \n",
    "    gradient = np.dot(X_train.transpose(), loss_train) /m_train\n",
    "    W = W - alpha * gradient\n",
    "plt.plot(Iteration,Ltrain,'r',label='Ltrain') \n",
    "plt.plot(Iteration, Lvalidation,'b',label=' Lvalidation') \n",
    "plt.show()\n",
    "\n",
    "\n",
    "\n"
   ]
  },
  {
   "cell_type": "code",
   "execution_count": null,
   "metadata": {
    "collapsed": true
   },
   "outputs": [],
   "source": []
  }
 ],
 "metadata": {
  "kernelspec": {
   "display_name": "Python 3",
   "language": "python",
   "name": "python3"
  },
  "language_info": {
   "codemirror_mode": {
    "name": "ipython",
    "version": 3
   },
   "file_extension": ".py",
   "mimetype": "text/x-python",
   "name": "python",
   "nbconvert_exporter": "python",
   "pygments_lexer": "ipython3",
   "version": "3.6.3"
  }
 },
 "nbformat": 4,
 "nbformat_minor": 2
}
