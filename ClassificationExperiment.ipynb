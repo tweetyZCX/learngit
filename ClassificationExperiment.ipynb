{
 "cells": [
  {
   "cell_type": "code",
   "execution_count": 60,
   "metadata": {},
   "outputs": [
    {
     "name": "stdout",
     "output_type": "stream",
     "text": [
      "[ 0.01956522 -0.09657617 -0.13674397 -0.09945652 -0.19590304 -0.12105978\n",
      " -0.16335697 -0.62282609 -0.42717391 -0.15695975 -0.04891304 -0.04402174\n",
      " -0.07505054 -0.12484855  0.11086957]\n"
     ]
    },
    {
     "data": {
      "image/png": "[encoded data removed]",
      "text/plain": [
       "<matplotlib.figure.Figure at 0xc573214780>"
      ]
     },
     "metadata": {},
     "output_type": "display_data"
    }
   ],
   "source": [
    "import numpy as np\n",
    "import matplotlib.pyplot as plt\n",
    "from sklearn.datasets import load_svmlight_file\n",
    "from sklearn.cross_validation import train_test_split \n",
    "x,y = load_svmlight_file(\"E:/australian_scale.txt\")\n",
    "x=x.toarray()\n",
    "m, n = np.shape(x)\n",
    "a=np.ones((m))\n",
    "X=np.column_stack((x,a))\n",
    "X_train, X_test, y_train, y_test = train_test_split(X,y,test_size=0.2,random_state=0)\n",
    "m_train,n_train= np.shape(X_train)\n",
    "m_test,n_test= np.shape(X_test)\n",
    "w = np.zeros(n+1)\n",
    "W=w.transpose()\n",
    "C=0.9\n",
    "η = 0.0001\n",
    "epoch=30000\n",
    "Iteration=range(0,epoch)\n",
    "Ltrain=[]\n",
    "Lvalidation=[]\n",
    "def g(x,y,i):\n",
    "    return 1-y[i]*np.dot(W.transpose(),x[i].transpose())\n",
    "gradient=0\n",
    "for i in range(m_train):\n",
    "    if g(X_train,y_train,i)>=0:\n",
    "        gradient += W-C*np.dot(y_train[i], X_train[i].transpose())\n",
    "    else:\n",
    "        gradient += W  \n",
    "gradient /=m_train\n",
    "print(gradient)\n",
    "for i in range(0,epoch):\n",
    "    loss_train = np.dot(W.transpose(),W)/2\n",
    "    for j in range(m_train):\n",
    "        if g(X_train,y_train,j)>=0:\n",
    "            loss_train += C*g(X_train,y_train,j)\n",
    "    loss_train /=m_train\n",
    "    Ltrain.append(loss_train) \n",
    "    loss_test= np.dot(W.transpose(),W)/2\n",
    "    for k in range(m_test):\n",
    "        if g(X_test,y_test,k)>=0:\n",
    "            loss_test += C*g(X_test,y_test,k)\n",
    "    loss_test /=m_test\n",
    "    Lvalidation.append(loss_test)\n",
    "    W = W - η* gradient\n",
    "plt.plot(Iteration,Ltrain,'r',label='Ltrain') \n",
    "plt.plot(Iteration, Lvalidation,'b',label=' Lvalidation') \n",
    "plt.show()\n"
   ]
  }
 ],
 "metadata": {
  "kernelspec": {
   "display_name": "Python 3",
   "language": "python",
   "name": "python3"
  },
  "language_info": {
   "codemirror_mode": {
    "name": "ipython",
    "version": 3
   },
   "file_extension": ".py",
   "mimetype": "text/x-python",
   "name": "python",
   "nbconvert_exporter": "python",
   "pygments_lexer": "ipython3",
   "version": "3.6.3"
  }
 },
 "nbformat": 4,
 "nbformat_minor": 2
}
